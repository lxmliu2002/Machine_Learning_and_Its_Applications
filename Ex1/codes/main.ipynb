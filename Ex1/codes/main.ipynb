{
 "cells": [
  {
   "cell_type": "code",
   "execution_count": 1,
   "metadata": {},
   "outputs": [],
   "source": [
    "# coding=utf-8\n",
    "import numpy as np\n",
    "import struct\n",
    "import os\n",
    "\n",
    "import matplotlib.pyplot as plt\n",
    "\n",
    "# from data_process import load_mnist, load_data\n",
    "# from train import train\n",
    "# from evaluate import predict, cal_accuracy"
   ]
  },
  {
   "cell_type": "markdown",
   "metadata": {},
   "source": [
    "# Load Data"
   ]
  },
  {
   "cell_type": "code",
   "execution_count": 2,
   "metadata": {},
   "outputs": [],
   "source": [
    "# Load the MNIST data for this exercise\n",
    "# mat_data contain the training and testing images or labels.\n",
    "#   Each matrix has size [m,n] for images where:\n",
    "#      m is the number of examples.\n",
    "#      n is the number of pixels in each image.\n",
    "#   or Each matrix has size [m,1] for labels contain the corresponding labels (0 to 9) where:\n",
    "#      m is the number of examples.\n",
    "def load_mnist(file_dir, is_images='True'):\n",
    "    # Read binary data\n",
    "    bin_file = open(file_dir, 'rb')\n",
    "    bin_data = bin_file.read()\n",
    "    bin_file.close()\n",
    "    # Analysis file header\n",
    "    if is_images:\n",
    "        # Read images\n",
    "        fmt_header = '>iiii'\n",
    "        magic, num_images, num_rows, num_cols = struct.unpack_from(fmt_header, bin_data, 0)\n",
    "    else:\n",
    "        # Read labels\n",
    "        fmt_header = '>ii'\n",
    "        magic, num_images = struct.unpack_from(fmt_header, bin_data, 0)\n",
    "        num_rows, num_cols = 1, 1\n",
    "    data_size = num_images * num_rows * num_cols\n",
    "    mat_data = struct.unpack_from('>' + str(data_size) + 'B', bin_data, struct.calcsize(fmt_header)) # 将数据解释为无符号字节序列 表示数据由data_size个字节组成，采用大端字节序\n",
    "    mat_data = np.reshape(mat_data, [num_images, num_rows * num_cols])\n",
    "    print('Load images from %s, number: %d, data shape: %s' % (file_dir, num_images, str(mat_data.shape)))\n",
    "    return mat_data\n",
    "\n",
    "\n",
    "\n",
    "# call the load_mnist function to get the images and labels of training set and testing set\n",
    "def load_data(mnist_dir, train_data_dir, train_label_dir, test_data_dir, test_label_dir):\n",
    "    print('Loading MNIST data from files...')\n",
    "    train_images = load_mnist(os.path.join(mnist_dir, train_data_dir), True)\n",
    "    train_labels = load_mnist(os.path.join(mnist_dir, train_label_dir), False)\n",
    "    test_images = load_mnist(os.path.join(mnist_dir, test_data_dir), True)\n",
    "    test_labels = load_mnist(os.path.join(mnist_dir, test_label_dir), False)\n",
    "    return train_images, train_labels, test_images, test_labels"
   ]
  },
  {
   "cell_type": "code",
   "execution_count": 3,
   "metadata": {},
   "outputs": [
    {
     "name": "stdout",
     "output_type": "stream",
     "text": [
      "Loading MNIST data from files...\n",
      "Load images from mnist_data/train-images.idx3-ubyte, number: 60000, data shape: (60000, 784)\n",
      "Load images from mnist_data/train-labels.idx1-ubyte, number: 60000, data shape: (60000, 1)\n",
      "Load images from mnist_data/t10k-images.idx3-ubyte, number: 10000, data shape: (10000, 784)\n",
      "Load images from mnist_data/t10k-labels.idx1-ubyte, number: 10000, data shape: (10000, 1)\n",
      "Got data. \n"
     ]
    }
   ],
   "source": [
    "mnist_dir = \"mnist_data/\"\n",
    "train_data_dir = \"train-images.idx3-ubyte\"\n",
    "train_label_dir = \"train-labels.idx1-ubyte\"\n",
    "test_data_dir = \"t10k-images.idx3-ubyte\"\n",
    "test_label_dir = \"t10k-labels.idx1-ubyte\"\n",
    "k = 10\n",
    "iters = 1000\n",
    "alpha = 0.5\n",
    "\n",
    "# get the data\n",
    "train_images, train_labels, test_images, test_labels = load_data(mnist_dir, train_data_dir, train_label_dir, test_data_dir, test_label_dir)\n",
    "print(\"Got data. \")\n",
    "\n"
   ]
  },
  {
   "cell_type": "markdown",
   "metadata": {},
   "source": [
    "# Train"
   ]
  },
  {
   "cell_type": "code",
   "execution_count": 4,
   "metadata": {},
   "outputs": [],
   "source": [
    "# tranfer the image from gray to binary and get the one-hot style labels\n",
    "def data_convert(x, y, m, k):\n",
    "    # 将灰度图像二值化，像素值小于等于40的设为0，大于40的设为1\n",
    "    x[x <= 40] = 0\n",
    "    x[x > 40] = 1\n",
    "    ont_hot_y = np.zeros((m,k)) # 创建一个大小为(m,k)的全零矩阵，用于存储独热编码的标签\n",
    "    # 为每个样本生成独热编码标签\n",
    "    for t in np.arange(0, m):\n",
    "        ont_hot_y[t, y[t]] = 1\n",
    "    ont_hot_y = ont_hot_y.T # 将独热编码矩阵进行转置，使得每一列代表一个样本的标签\n",
    "    return x, ont_hot_y\n",
    "\n",
    "def train(train_images, train_labels, k, iters = 5, alpha = 0.5):\n",
    "    m, n = train_images.shape\n",
    "    # data processing\n",
    "    x, y = data_convert(train_images, train_labels, m, k) # x:[m,n], y:[1,m]  TODO 为何不是y:[k,m]?\n",
    "    # print(y.shape)  (10, 60000)\n",
    "    \n",
    "    \n",
    "    # Initialize theta.  Use a matrix where each column corresponds to a class,\n",
    "    # and each row is a classifier coefficient for that class.\n",
    "    theta = np.random.rand(k, n) # [k,n]\n",
    "    # print(theta.shape)  (10, 784)\n",
    "    \n",
    "    # do the softmax regression\n",
    "    theta = softmax_regression(theta, x, y, iters, alpha)\n",
    "    return theta\n",
    "\n",
    "# x:train y:lable\n",
    "def softmax_regression(theta, x, y, iters, alpha):\n",
    "    # TODO: Do the softmax regression by computing the gradient and\n",
    "    # the objective function value of every iteration and update the theta\n",
    "    \n",
    "    # print(\"theta.shape\",theta.shape) (10, 784)       theta[10, 784]\n",
    "    # print(\"y.shape\",y.shape) (10, 60000)             y[10, 60000]\n",
    "    # print(\"x.shape\",x.shape) (60000, 784)            x[60000, 784]\n",
    "    m = x.shape[0]\n",
    "    # print(m) m = 60000                               m = 60000\n",
    "    loss_history = []\n",
    "    for i in range(iters):\n",
    "    # for i in tqdm(range(iters), desc=\"Training\"):\n",
    "        scores = np.dot(theta, x.T)  # Calculate scores for each class\n",
    "        # print(scores.shape) (10, 60000)\n",
    "        exp_scores = np.exp(scores - np.max(scores, axis = 0))  # Subtract max score for numerical stability\n",
    "        # print(exp_scores.shape) (10, 60000)\n",
    "        probabilities = exp_scores / np.sum(exp_scores, axis = 0)  # Calculate class probabilities\n",
    "        # print(\"probabilities\",probabilities.shape) (10, 60000)\n",
    "        \n",
    "        # probabilities = np.exp(np.matmul(theta, x.T)) / np.sum(np.exp(np.matmul(theta, x.T)), axis=0)\n",
    "        f = -np.sum(y * np.log(probabilities)) / m\n",
    "        loss_history.append(f)\n",
    "        # Calculate the gradient\n",
    "        g = np.dot((probabilities - y), x) / m\n",
    "        # Update theta using gradient descent\n",
    "        theta -= alpha * g\n",
    "        \n",
    "        if (i + 1) % 10 == 0:\n",
    "            print(f\"Iteration {i + 1}/{iters}, f: {f}\")\n",
    "\n",
    "\n",
    "    plt.plot(range(1, iters + 1), loss_history)\n",
    "    plt.xlabel('Iterations')\n",
    "    plt.ylabel('Loss')\n",
    "    plt.title('Loss vs. Iterations')\n",
    "    plt.show()\n",
    "\n",
    "    return theta\n",
    "\n"
   ]
  },
  {
   "cell_type": "markdown",
   "metadata": {},
   "source": [
    "# Predict"
   ]
  },
  {
   "cell_type": "code",
   "execution_count": 5,
   "metadata": {},
   "outputs": [],
   "source": [
    "def predict(test_images, theta):\n",
    "    scores = np.dot(test_images, theta.T)\n",
    "    preds = np.argmax(scores, axis=1)\n",
    "    return preds\n",
    "\n",
    "\n",
    "def cal_accuracy(y_pred, y):\n",
    "    # TODO: Compute the accuracy among the test set and store it in acc\n",
    "    # check lenth\n",
    "    if len(y_pred) != len(y):\n",
    "        raise ValueError(\"The lengths of the predicted values and the actual labels are not consistent\")\n",
    "\n",
    "    correct = 0\n",
    "    total = len(y)\n",
    "\n",
    "    for i in range(total):\n",
    "        if y_pred[i] == y[i]:\n",
    "            correct += 1\n",
    "\n",
    "    accuracy = (correct / total) * 100.0\n",
    "\n",
    "    return accuracy"
   ]
  },
  {
   "cell_type": "markdown",
   "metadata": {},
   "source": [
    "iters = 1000\n",
    "\n",
    "alpha = 0.7"
   ]
  },
  {
   "cell_type": "code",
   "execution_count": 175,
   "metadata": {},
   "outputs": [
    {
     "name": "stdout",
     "output_type": "stream",
     "text": [
      "Iteration 10/1000, Loss: 1.2386420173104469\n",
      "Iteration 20/1000, Loss: 0.8416572757234604\n",
      "Iteration 30/1000, Loss: 0.6481350824837653\n",
      "Iteration 40/1000, Loss: 0.5863225085425171\n",
      "Iteration 50/1000, Loss: 0.5501313837440669\n",
      "Iteration 60/1000, Loss: 0.5237002812292375\n",
      "Iteration 70/1000, Loss: 0.5031926300148702\n",
      "Iteration 80/1000, Loss: 0.48664484423205484\n",
      "Iteration 90/1000, Loss: 0.47290110503703975\n",
      "Iteration 100/1000, Loss: 0.46123054682168896\n",
      "Iteration 110/1000, Loss: 0.4511453243915732\n",
      "Iteration 120/1000, Loss: 0.4423056529912237\n",
      "Iteration 130/1000, Loss: 0.43446659591304476\n",
      "Iteration 140/1000, Loss: 0.4274464967460577\n",
      "Iteration 150/1000, Loss: 0.42110735863364\n",
      "Iteration 160/1000, Loss: 0.41534216984413647\n",
      "Iteration 170/1000, Loss: 0.41006644783549123\n",
      "Iteration 180/1000, Loss: 0.4052124407489661\n",
      "Iteration 190/1000, Loss: 0.40072505566083105\n",
      "Iteration 200/1000, Loss: 0.39655893900969735\n",
      "Iteration 210/1000, Loss: 0.39267634369339927\n",
      "Iteration 220/1000, Loss: 0.3890455442863963\n",
      "Iteration 230/1000, Loss: 0.38563964119414457\n",
      "Iteration 240/1000, Loss: 0.3824356454280863\n",
      "Iteration 250/1000, Loss: 0.37941376899287965\n",
      "Iteration 260/1000, Loss: 0.3765568680985668\n",
      "Iteration 270/1000, Loss: 0.3738500014847904\n",
      "Iteration 280/1000, Loss: 0.37128007652911565\n",
      "Iteration 290/1000, Loss: 0.36883556307059523\n",
      "Iteration 300/1000, Loss: 0.3665062600245549\n",
      "Iteration 310/1000, Loss: 0.36428310355952315\n",
      "Iteration 320/1000, Loss: 0.3621580082943815\n",
      "Iteration 330/1000, Loss: 0.36012373495132627\n",
      "Iteration 340/1000, Loss: 0.3581737793717875\n",
      "Iteration 350/1000, Loss: 0.35630227890895166\n",
      "Iteration 360/1000, Loss: 0.35450393305070405\n",
      "Iteration 370/1000, Loss: 0.3527739357705787\n",
      "Iteration 380/1000, Loss: 0.3511079176018657\n",
      "Iteration 390/1000, Loss: 0.34950189581768215\n",
      "Iteration 400/1000, Loss: 0.34795223140413123\n",
      "Iteration 410/1000, Loss: 0.3464555917543288\n",
      "Iteration 420/1000, Loss: 0.34500891820262336\n",
      "Iteration 430/1000, Loss: 0.3436093976718054\n",
      "Iteration 440/1000, Loss: 0.3422544378298138\n",
      "Iteration 450/1000, Loss: 0.34094164525269993\n",
      "Iteration 460/1000, Loss: 0.339668806172336\n",
      "Iteration 470/1000, Loss: 0.3384338694542988\n",
      "Iteration 480/1000, Loss: 0.33723493150645106\n",
      "Iteration 490/1000, Loss: 0.336070222864312\n",
      "Iteration 500/1000, Loss: 0.33493809623715204\n",
      "Iteration 510/1000, Loss: 0.33383701583029796\n",
      "Iteration 520/1000, Loss: 0.332765547785568\n",
      "Iteration 530/1000, Loss: 0.3317223516039556\n",
      "Iteration 540/1000, Loss: 0.3307061724334204\n",
      "Iteration 550/1000, Loss: 0.329715834120484\n",
      "Iteration 560/1000, Loss: 0.3287502329378099\n",
      "Iteration 570/1000, Loss: 0.32780833191139125\n",
      "Iteration 580/1000, Loss: 0.3268891556807871\n",
      "Iteration 590/1000, Loss: 0.32599178583422556\n",
      "Iteration 600/1000, Loss: 0.32511535666762337\n",
      "Iteration 610/1000, Loss: 0.3242590513227665\n",
      "Iteration 620/1000, Loss: 0.32342209826528523\n",
      "Iteration 630/1000, Loss: 0.32260376806768765\n",
      "Iteration 640/1000, Loss: 0.3218033704667679\n",
      "Iteration 650/1000, Loss: 0.32102025166820114\n",
      "Iteration 660/1000, Loss: 0.3202537918742144\n",
      "Iteration 670/1000, Loss: 0.31950340301288555\n",
      "Iteration 680/1000, Loss: 0.31876852664997835\n",
      "Iteration 690/1000, Loss: 0.3180486320662662\n",
      "Iteration 700/1000, Loss: 0.3173432144851225\n",
      "Iteration 710/1000, Loss: 0.31665179343673133\n",
      "Iteration 720/1000, Loss: 0.3159739112466945\n",
      "Iteration 730/1000, Loss: 0.31530913163804875\n",
      "Iteration 740/1000, Loss: 0.31465703843680765\n",
      "Iteration 750/1000, Loss: 0.31401723437213047\n",
      "Iteration 760/1000, Loss: 0.31338933996307605\n",
      "Iteration 770/1000, Loss: 0.3127729924846929\n",
      "Iteration 780/1000, Loss: 0.3121678450068686\n",
      "Iteration 790/1000, Loss: 0.3115735654999971\n",
      "Iteration 800/1000, Loss: 0.3109898360020572\n",
      "Iteration 810/1000, Loss: 0.31041635184221045\n",
      "Iteration 820/1000, Loss: 0.30985282091645167\n",
      "Iteration 830/1000, Loss: 0.30929896301125587\n",
      "Iteration 840/1000, Loss: 0.30875450917152136\n",
      "Iteration 850/1000, Loss: 0.308219201109438\n",
      "Iteration 860/1000, Loss: 0.30769279065118427\n",
      "Iteration 870/1000, Loss: 0.30717503921864586\n",
      "Iteration 880/1000, Loss: 0.3066657173435653\n",
      "Iteration 890/1000, Loss: 0.30616460421176017\n",
      "Iteration 900/1000, Loss: 0.30567148723523807\n",
      "Iteration 910/1000, Loss: 0.3051861616502169\n",
      "Iteration 920/1000, Loss: 0.30470843013922005\n",
      "Iteration 930/1000, Loss: 0.30423810247555966\n",
      "Iteration 940/1000, Loss: 0.3037749951886602\n",
      "Iteration 950/1000, Loss: 0.30331893124879333\n",
      "Iteration 960/1000, Loss: 0.3028697397699057\n",
      "Iteration 970/1000, Loss: 0.3024272557293231\n",
      "Iteration 980/1000, Loss: 0.3019913197032104\n",
      "Iteration 990/1000, Loss: 0.30156177761674646\n",
      "Iteration 1000/1000, Loss: 0.3011384805080573\n"
     ]
    },
    {
     "data": {
      "image/png": "[encoded data removed]",
      "text/plain": [
       "<Figure size 640x480 with 1 Axes>"
      ]
     },
     "metadata": {},
     "output_type": "display_data"
    },
    {
     "name": "stdout",
     "output_type": "stream",
     "text": [
      "Finished training. \n"
     ]
    }
   ],
   "source": [
    "# train the classifier\n",
    "theta = train(train_images, train_labels, k, iters, alpha)\n",
    "print(\"Finished training. \")"
   ]
  },
  {
   "cell_type": "code",
   "execution_count": 176,
   "metadata": {},
   "outputs": [
    {
     "name": "stdout",
     "output_type": "stream",
     "text": [
      "accuracy: 91.49000000000001 %\n",
      "Finished test. \n"
     ]
    }
   ],
   "source": [
    "# evaluate on the testset\n",
    "y_predict = predict(test_images, theta)\n",
    "accuracy  = cal_accuracy(y_predict, test_labels)\n",
    "print('accuracy:', accuracy, '%')\n",
    "print(\"Finished test. \")"
   ]
  },
  {
   "cell_type": "markdown",
   "metadata": {},
   "source": [
    "iters = 500\n",
    "\n",
    "alpha = 0.7"
   ]
  },
  {
   "cell_type": "code",
   "execution_count": 167,
   "metadata": {},
   "outputs": [
    {
     "name": "stdout",
     "output_type": "stream",
     "text": [
      "Iteration 10/500, Loss: 1.316458926483001\n",
      "Iteration 20/500, Loss: 0.8579933513184608\n",
      "Iteration 30/500, Loss: 0.6631364006855729\n",
      "Iteration 40/500, Loss: 0.595498033236516\n",
      "Iteration 50/500, Loss: 0.5560177528363106\n",
      "Iteration 60/500, Loss: 0.5276160473907551\n",
      "Iteration 70/500, Loss: 0.5058769519476395\n",
      "Iteration 80/500, Loss: 0.4885412869788958\n",
      "Iteration 90/500, Loss: 0.47428674395125103\n",
      "Iteration 100/500, Loss: 0.46228272651539204\n",
      "Iteration 110/500, Loss: 0.4519793618942596\n",
      "Iteration 120/500, Loss: 0.44299731441277546\n",
      "Iteration 130/500, Loss: 0.43506595728147024\n",
      "Iteration 140/500, Loss: 0.4279866913223309\n",
      "Iteration 150/500, Loss: 0.4216102024552878\n",
      "Iteration 160/500, Loss: 0.41582184387366633\n",
      "Iteration 170/500, Loss: 0.410531948659208\n",
      "Iteration 180/500, Loss: 0.40566923644150754\n",
      "Iteration 190/500, Loss: 0.4011762187400293\n",
      "Iteration 200/500, Loss: 0.3970059289094313\n",
      "Iteration 210/500, Loss: 0.3931195503366493\n",
      "Iteration 220/500, Loss: 0.38948466652222224\n",
      "Iteration 230/500, Loss: 0.38607394987127147\n",
      "Iteration 240/500, Loss: 0.3828641653003516\n",
      "Iteration 250/500, Loss: 0.3798354032934894\n",
      "Iteration 260/500, Loss: 0.376970482579669\n",
      "Iteration 270/500, Loss: 0.37425447984511706\n",
      "Iteration 280/500, Loss: 0.3716743557307868\n",
      "Iteration 290/500, Loss: 0.3692186546192371\n",
      "Iteration 300/500, Loss: 0.3668772615530781\n",
      "Iteration 310/500, Loss: 0.364641203811097\n",
      "Iteration 320/500, Loss: 0.36250248770353116\n",
      "Iteration 330/500, Loss: 0.36045396337529123\n",
      "Iteration 340/500, Loss: 0.3584892120578596\n",
      "Iteration 350/500, Loss: 0.35660245144802954\n",
      "Iteration 360/500, Loss: 0.35478845582718105\n",
      "Iteration 370/500, Loss: 0.3530424882481603\n",
      "Iteration 380/500, Loss: 0.35136024266500804\n",
      "Iteration 390/500, Loss: 0.3497377943051375\n",
      "Iteration 400/500, Loss: 0.3481715569142415\n",
      "Iteration 410/500, Loss: 0.3466582457635779\n",
      "Iteration 420/500, Loss: 0.34519484551398355\n",
      "Iteration 430/500, Loss: 0.34377858219353197\n",
      "Iteration 440/500, Loss: 0.34240689867560803\n",
      "Iteration 450/500, Loss: 0.34107743314858086\n",
      "Iteration 460/500, Loss: 0.3397880001526611\n",
      "Iteration 470/500, Loss: 0.33853657382818764\n",
      "Iteration 480/500, Loss: 0.3373212730757532\n",
      "Iteration 490/500, Loss: 0.3361403483747669\n",
      "Iteration 500/500, Loss: 0.3349921700452393\n"
     ]
    },
    {
     "data": {
      "image/png": "[encoded data removed]",
      "text/plain": [
       "<Figure size 640x480 with 1 Axes>"
      ]
     },
     "metadata": {},
     "output_type": "display_data"
    },
    {
     "name": "stdout",
     "output_type": "stream",
     "text": [
      "Finished training. \n"
     ]
    }
   ],
   "source": [
    "# train the classifier\n",
    "theta = train(train_images, train_labels, k, iters, alpha)\n",
    "print(\"Finished training. \")"
   ]
  },
  {
   "cell_type": "code",
   "execution_count": 169,
   "metadata": {},
   "outputs": [
    {
     "name": "stdout",
     "output_type": "stream",
     "text": [
      "accuracy: 90.94 %\n",
      "Finished test. \n"
     ]
    }
   ],
   "source": [
    "# evaluate on the testset\n",
    "y_predict = predict(test_images, theta)\n",
    "accuracy  = cal_accuracy(y_predict, test_labels)\n",
    "print('accuracy:', accuracy, '%')\n",
    "print(\"Finished test. \")"
   ]
  },
  {
   "cell_type": "markdown",
   "metadata": {},
   "source": [
    "iters = 500\n",
    "\n",
    "alpha = 0.5"
   ]
  },
  {
   "cell_type": "code",
   "execution_count": 160,
   "metadata": {},
   "outputs": [
    {
     "name": "stdout",
     "output_type": "stream",
     "text": [
      "Iteration 10/500, Loss: 1.3621191936662609\n",
      "Iteration 20/500, Loss: 0.9066392334815665\n",
      "Iteration 30/500, Loss: 0.7532328623190359\n",
      "Iteration 40/500, Loss: 0.671188814325303\n",
      "Iteration 50/500, Loss: 0.6187940243665443\n",
      "Iteration 60/500, Loss: 0.5818413761823182\n",
      "Iteration 70/500, Loss: 0.5540581562844167\n",
      "Iteration 80/500, Loss: 0.5322169743706778\n",
      "Iteration 90/500, Loss: 0.514473678282375\n",
      "Iteration 100/500, Loss: 0.49969072305968554\n",
      "Iteration 110/500, Loss: 0.4871245438228658\n",
      "Iteration 120/500, Loss: 0.47626663852110657\n",
      "Iteration 130/500, Loss: 0.46675646980929086\n",
      "Iteration 140/500, Loss: 0.45833074434376936\n",
      "Iteration 150/500, Loss: 0.4507923800661781\n",
      "Iteration 160/500, Loss: 0.4439907295129865\n",
      "Iteration 170/500, Loss: 0.43780853845316386\n",
      "Iteration 180/500, Loss: 0.43215309202601165\n",
      "Iteration 190/500, Loss: 0.4269500507834378\n",
      "Iteration 200/500, Loss: 0.4221390642626535\n",
      "Iteration 210/500, Loss: 0.4176705887292374\n",
      "Iteration 220/500, Loss: 0.4135035387989891\n",
      "Iteration 230/500, Loss: 0.4096035279082563\n",
      "Iteration 240/500, Loss: 0.40594153191856563\n",
      "Iteration 250/500, Loss: 0.40249286156465625\n",
      "Iteration 260/500, Loss: 0.39923636351633657\n",
      "Iteration 270/500, Loss: 0.39615379282966323\n",
      "Iteration 280/500, Loss: 0.3932293153786211\n",
      "Iteration 290/500, Loss: 0.39044910990836973\n",
      "Iteration 300/500, Loss: 0.38780104718558644\n",
      "Iteration 310/500, Loss: 0.38527442935104605\n",
      "Iteration 320/500, Loss: 0.38285977667468324\n",
      "Iteration 330/500, Loss: 0.38054865192586473\n",
      "Iteration 340/500, Loss: 0.37833351481069344\n",
      "Iteration 350/500, Loss: 0.37620760060832925\n",
      "Iteration 360/500, Loss: 0.3741648184102879\n",
      "Iteration 370/500, Loss: 0.3721996653375305\n",
      "Iteration 380/500, Loss: 0.3703071538569189\n",
      "Iteration 390/500, Loss: 0.36848274989713314\n",
      "Iteration 400/500, Loss: 0.3667223199153694\n",
      "Iteration 410/500, Loss: 0.3650220854203607\n",
      "Iteration 420/500, Loss: 0.3633785837369986\n",
      "Iteration 430/500, Loss: 0.3617886340200651\n",
      "Iteration 440/500, Loss: 0.3602493077020717\n",
      "Iteration 450/500, Loss: 0.3587579027027595\n",
      "Iteration 460/500, Loss: 0.3573119208428414\n",
      "Iteration 470/500, Loss: 0.3559090479978891\n",
      "Iteration 480/500, Loss: 0.35454713660430703\n",
      "Iteration 490/500, Loss: 0.35322419019157636\n",
      "Iteration 500/500, Loss: 0.3519383496661489\n"
     ]
    },
    {
     "data": {
      "image/png": "[encoded data removed]",
      "text/plain": [
       "<Figure size 640x480 with 1 Axes>"
      ]
     },
     "metadata": {},
     "output_type": "display_data"
    },
    {
     "name": "stdout",
     "output_type": "stream",
     "text": [
      "Finished training. \n"
     ]
    }
   ],
   "source": [
    "# train the classifier\n",
    "theta = train(train_images, train_labels, k, iters, alpha)\n",
    "print(\"Finished training. \")"
   ]
  },
  {
   "cell_type": "code",
   "execution_count": 161,
   "metadata": {},
   "outputs": [
    {
     "name": "stdout",
     "output_type": "stream",
     "text": [
      "accuracy: 90.71000000000001 %\n",
      "Finished test. \n"
     ]
    }
   ],
   "source": [
    "# evaluate on the testset\n",
    "y_predict = predict(test_images, theta)\n",
    "accuracy  = cal_accuracy(y_predict, test_labels)\n",
    "print('accuracy:', accuracy, '%')\n",
    "print(\"Finished test. \")"
   ]
  },
  {
   "cell_type": "markdown",
   "metadata": {},
   "source": [
    "iters = 1000\n",
    "\n",
    "alpha = 0.5"
   ]
  },
  {
   "cell_type": "code",
   "execution_count": 6,
   "metadata": {},
   "outputs": [
    {
     "name": "stdout",
     "output_type": "stream",
     "text": [
      "Iteration 10/1000, f: 1.1890142449426322\n",
      "Iteration 20/1000, f: 0.8285920520889687\n",
      "Iteration 30/1000, f: 0.7007874238494954\n",
      "Iteration 40/1000, f: 0.6320256753593625\n",
      "Iteration 50/1000, f: 0.5878888722385193\n",
      "Iteration 60/1000, f: 0.5566152494818676\n",
      "Iteration 70/1000, f: 0.5329869066810669\n",
      "Iteration 80/1000, f: 0.5143119970978255\n",
      "Iteration 90/1000, f: 0.4990515436003676\n",
      "Iteration 100/1000, f: 0.48625743444341507\n",
      "Iteration 110/1000, f: 0.4753113782804406\n",
      "Iteration 120/1000, f: 0.4657916720528988\n",
      "Iteration 130/1000, f: 0.4574000514234959\n",
      "Iteration 140/1000, f: 0.44991911473602664\n",
      "Iteration 150/1000, f: 0.44318632805911967\n",
      "Iteration 160/1000, f: 0.43707750738479184\n",
      "Iteration 170/1000, f: 0.4314959619645288\n",
      "Iteration 180/1000, f: 0.4263651489747023\n",
      "Iteration 190/1000, f: 0.42162357786006505\n",
      "Iteration 200/1000, f: 0.4172211971675222\n",
      "Iteration 210/1000, f: 0.41311678262930274\n",
      "Iteration 220/1000, f: 0.4092760162638404\n",
      "Iteration 230/1000, f: 0.4056700516289781\n",
      "Iteration 240/1000, f: 0.4022744270263763\n",
      "Iteration 250/1000, f: 0.3990682316389135\n",
      "Iteration 260/1000, f: 0.39603345814774765\n",
      "Iteration 270/1000, f: 0.3931544946284057\n",
      "Iteration 280/1000, f: 0.39041772172255756\n",
      "Iteration 290/1000, f: 0.3878111902687018\n",
      "Iteration 300/1000, f: 0.38532436106047235\n",
      "Iteration 310/1000, f: 0.38294789303995286\n",
      "Iteration 320/1000, f: 0.3806734695914404\n",
      "Iteration 330/1000, f: 0.3784936550595917\n",
      "Iteration 340/1000, f: 0.3764017754347079\n",
      "Iteration 350/1000, f: 0.37439181850673\n",
      "Iteration 360/1000, f: 0.3724583498139963\n",
      "Iteration 370/1000, f: 0.3705964414918753\n",
      "Iteration 380/1000, f: 0.36880161172368353\n",
      "Iteration 390/1000, f: 0.36706977295772225\n",
      "Iteration 400/1000, f: 0.3653971874134033\n",
      "Iteration 410/1000, f: 0.3637804286808731\n",
      "Iteration 420/1000, f: 0.36221634844059725\n",
      "Iteration 430/1000, f: 0.36070204750568713\n",
      "Iteration 440/1000, f: 0.35923485053061893\n",
      "Iteration 450/1000, f: 0.35781228384318414\n",
      "Iteration 460/1000, f: 0.35643205594800315\n",
      "Iteration 470/1000, f: 0.355092040324262\n",
      "Iteration 480/1000, f: 0.3537902602010255\n",
      "Iteration 490/1000, f: 0.3525248750433036\n",
      "Iteration 500/1000, f: 0.3512941685231171\n",
      "Iteration 510/1000, f: 0.35009653778382915\n",
      "Iteration 520/1000, f: 0.3489304838342944\n",
      "Iteration 530/1000, f: 0.34779460293300846\n",
      "Iteration 540/1000, f: 0.34668757884224444\n",
      "Iteration 550/1000, f: 0.3456081758488316\n",
      "Iteration 560/1000, f: 0.344555232462295\n",
      "Iteration 570/1000, f: 0.3435276557130084\n",
      "Iteration 580/1000, f: 0.3425244159831436\n",
      "Iteration 590/1000, f: 0.34154454231184056\n",
      "Iteration 600/1000, f: 0.34058711812341913\n",
      "Iteration 610/1000, f: 0.33965127733379796\n",
      "Iteration 620/1000, f: 0.33873620079573197\n",
      "Iteration 630/1000, f: 0.33784111304820885\n",
      "Iteration 640/1000, f: 0.3369652793393921\n",
      "Iteration 650/1000, f: 0.3361080028960576\n",
      "Iteration 660/1000, f: 0.33526862241552313\n",
      "Iteration 670/1000, f: 0.3344465097587619\n",
      "Iteration 680/1000, f: 0.333641067825732\n",
      "Iteration 690/1000, f: 0.3328517285959943\n",
      "Iteration 700/1000, f: 0.33207795131950874\n",
      "Iteration 710/1000, f: 0.33131922084407295\n",
      "Iteration 720/1000, f: 0.3305750460672681\n",
      "Iteration 730/1000, f: 0.32984495850201684\n",
      "Iteration 740/1000, f: 0.329128510945939\n",
      "Iteration 750/1000, f: 0.32842527624568346\n",
      "Iteration 760/1000, f: 0.32773484614825227\n",
      "Iteration 770/1000, f: 0.3270568302321194\n",
      "Iteration 780/1000, f: 0.3263908549116217\n",
      "Iteration 790/1000, f: 0.32573656250871413\n",
      "Iteration 800/1000, f: 0.3250936103867307\n",
      "Iteration 810/1000, f: 0.3244616701412771\n",
      "Iteration 820/1000, f: 0.3238404268438261\n",
      "Iteration 830/1000, f: 0.3232295783339801\n",
      "Iteration 840/1000, f: 0.3226288345567178\n",
      "Iteration 850/1000, f: 0.32203791694127093\n",
      "Iteration 860/1000, f: 0.32145655781855026\n",
      "Iteration 870/1000, f: 0.32088449987432116\n",
      "Iteration 880/1000, f: 0.32032149563554485\n",
      "Iteration 890/1000, f: 0.3197673069875311\n",
      "Iteration 900/1000, f: 0.31922170471972955\n",
      "Iteration 910/1000, f: 0.3186844680981709\n",
      "Iteration 920/1000, f: 0.3181553844627245\n",
      "Iteration 930/1000, f: 0.31763424884748437\n",
      "Iteration 940/1000, f: 0.317120863622727\n",
      "Iteration 950/1000, f: 0.31661503815701114\n",
      "Iteration 960/1000, f: 0.31611658849808383\n",
      "Iteration 970/1000, f: 0.31562533707138113\n",
      "Iteration 980/1000, f: 0.31514111239497605\n",
      "Iteration 990/1000, f: 0.3146637488099366\n",
      "Iteration 1000/1000, f: 0.3141930862251119\n"
     ]
    },
    {
     "data": {
      "image/png": "[encoded data removed]",
      "text/plain": [
       "<Figure size 640x480 with 1 Axes>"
      ]
     },
     "metadata": {},
     "output_type": "display_data"
    },
    {
     "name": "stdout",
     "output_type": "stream",
     "text": [
      "Finished training. \n"
     ]
    }
   ],
   "source": [
    "# train the classifier\n",
    "theta = train(train_images, train_labels, k, iters, alpha)\n",
    "print(\"Finished training. \")"
   ]
  },
  {
   "cell_type": "code",
   "execution_count": 7,
   "metadata": {},
   "outputs": [
    {
     "name": "stdout",
     "output_type": "stream",
     "text": [
      "accuracy: 91.16 %\n",
      "Finished test. \n"
     ]
    }
   ],
   "source": [
    "# evaluate on the testset\n",
    "y_predict = predict(test_images, theta)\n",
    "accuracy  = cal_accuracy(y_predict, test_labels)\n",
    "print('accuracy:', accuracy, '%')\n",
    "print(\"Finished test. \")"
   ]
  }
 ],
 "metadata": {
  "kernelspec": {
   "display_name": "Machine_Learning",
   "language": "python",
   "name": "python3"
  },
  "language_info": {
   "codemirror_mode": {
    "name": "ipython",
    "version": 3
   },
   "file_extension": ".py",
   "mimetype": "text/x-python",
   "name": "python",
   "nbconvert_exporter": "python",
   "pygments_lexer": "ipython3",
   "version": "3.11.6"
  }
 },
 "nbformat": 4,
 "nbformat_minor": 2
}
